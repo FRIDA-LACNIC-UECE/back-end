{
 "cells": [
  {
   "cell_type": "code",
   "execution_count": 6,
   "metadata": {},
   "outputs": [],
   "source": [
    "from faker import Faker\n",
    "import pandas as pd"
   ]
  },
  {
   "cell_type": "code",
   "execution_count": 7,
   "metadata": {},
   "outputs": [],
   "source": [
    "def create_dataset(num_of_rows, number_of_columns, faker):\n",
    "    dataset = []\n",
    "    for row in range(num_of_rows):\n",
    "        line = []\n",
    "        for col in range(number_of_columns):\n",
    "            name = faker.name()\n",
    "            line.append(name)\n",
    "        dataset.append(line)\n",
    "    return pd.DataFrame(dataset)"
   ]
  },
  {
   "cell_type": "code",
   "execution_count": 12,
   "metadata": {},
   "outputs": [
    {
     "name": "stdout",
     "output_type": "stream",
     "text": [
      "<function get_hash_value at 0x12c163310>\n"
     ]
    }
   ],
   "source": [
    "\n",
    "class Hash:\n",
    "    def __init__(self, s: str):\n",
    "        self.p, self.m, self.hash = 31, 10**9 + 7, 0\n",
    "        self.compute_hashes(s)\n",
    " \n",
    "    def compute_hashes(self, s: str):\n",
    "        hash = 0\n",
    "        for ch in s:\n",
    "            value = ord(ch)\n",
    "            hash = (hash * self.p + value) % self.m\n",
    "        self.hash = hash\n",
    " \n",
    "    def __eq__(self, other):\n",
    "        return self.hash == other.hash\n",
    " \n",
    "    def __str__(self):\n",
    "        return f'({self.hash})'\n",
    " \n",
    "def get_hash_value(s: str):\n",
    "    return Hash(s).hash\n",
    "\n",
    "print(get_hash_value(\"abc\"))"
   ]
  },
  {
   "cell_type": "code",
   "execution_count": 9,
   "metadata": {},
   "outputs": [
    {
     "data": {
      "text/html": [
       "<div>\n",
       "<style scoped>\n",
       "    .dataframe tbody tr th:only-of-type {\n",
       "        vertical-align: middle;\n",
       "    }\n",
       "\n",
       "    .dataframe tbody tr th {\n",
       "        vertical-align: top;\n",
       "    }\n",
       "\n",
       "    .dataframe thead th {\n",
       "        text-align: right;\n",
       "    }\n",
       "</style>\n",
       "<table border=\"1\" class=\"dataframe\">\n",
       "  <thead>\n",
       "    <tr style=\"text-align: right;\">\n",
       "      <th></th>\n",
       "      <th>0</th>\n",
       "      <th>1</th>\n",
       "      <th>2</th>\n",
       "    </tr>\n",
       "  </thead>\n",
       "  <tbody>\n",
       "    <tr>\n",
       "      <th>0</th>\n",
       "      <td>Brandon Russell</td>\n",
       "      <td>Steven Johnson</td>\n",
       "      <td>Evelyn Christian</td>\n",
       "    </tr>\n",
       "    <tr>\n",
       "      <th>1</th>\n",
       "      <td>George Cook</td>\n",
       "      <td>Aaron Graham</td>\n",
       "      <td>Kyle Jones</td>\n",
       "    </tr>\n",
       "    <tr>\n",
       "      <th>2</th>\n",
       "      <td>Jerome Whitehead</td>\n",
       "      <td>Charles Tyler</td>\n",
       "      <td>Thomas Berry</td>\n",
       "    </tr>\n",
       "    <tr>\n",
       "      <th>3</th>\n",
       "      <td>Ryan Mack</td>\n",
       "      <td>Robert Clark</td>\n",
       "      <td>Kelsey Pacheco</td>\n",
       "    </tr>\n",
       "    <tr>\n",
       "      <th>4</th>\n",
       "      <td>James Hammond</td>\n",
       "      <td>Melinda Little</td>\n",
       "      <td>Stefanie Tucker</td>\n",
       "    </tr>\n",
       "    <tr>\n",
       "      <th>5</th>\n",
       "      <td>Jade Johnson</td>\n",
       "      <td>Catherine Wilkins</td>\n",
       "      <td>Mary Jackson</td>\n",
       "    </tr>\n",
       "    <tr>\n",
       "      <th>6</th>\n",
       "      <td>James Jones</td>\n",
       "      <td>Kenneth Rogers</td>\n",
       "      <td>Brandon Fuller</td>\n",
       "    </tr>\n",
       "    <tr>\n",
       "      <th>7</th>\n",
       "      <td>Harold Perez</td>\n",
       "      <td>Misty Stout</td>\n",
       "      <td>Wendy Maynard</td>\n",
       "    </tr>\n",
       "    <tr>\n",
       "      <th>8</th>\n",
       "      <td>Cynthia Webb</td>\n",
       "      <td>William Wallace</td>\n",
       "      <td>Amanda Taylor</td>\n",
       "    </tr>\n",
       "    <tr>\n",
       "      <th>9</th>\n",
       "      <td>David Bell</td>\n",
       "      <td>Jeffrey Fisher</td>\n",
       "      <td>Arthur Kelly</td>\n",
       "    </tr>\n",
       "  </tbody>\n",
       "</table>\n",
       "</div>"
      ],
      "text/plain": [
       "                  0                  1                 2\n",
       "0   Brandon Russell     Steven Johnson  Evelyn Christian\n",
       "1       George Cook       Aaron Graham        Kyle Jones\n",
       "2  Jerome Whitehead      Charles Tyler      Thomas Berry\n",
       "3         Ryan Mack       Robert Clark    Kelsey Pacheco\n",
       "4     James Hammond     Melinda Little   Stefanie Tucker\n",
       "5      Jade Johnson  Catherine Wilkins      Mary Jackson\n",
       "6       James Jones     Kenneth Rogers    Brandon Fuller\n",
       "7      Harold Perez        Misty Stout     Wendy Maynard\n",
       "8      Cynthia Webb    William Wallace     Amanda Taylor\n",
       "9        David Bell     Jeffrey Fisher      Arthur Kelly"
      ]
     },
     "metadata": {},
     "output_type": "display_data"
    }
   ],
   "source": [
    "Faker.seed(123)\n",
    "fake = Faker()\n",
    "\n",
    "dataset = create_dataset(10, 3, fake)\n",
    "\n",
    "display(dataset)"
   ]
  },
  {
   "cell_type": "code",
   "execution_count": null,
   "metadata": {},
   "outputs": [],
   "source": []
  }
 ],
 "metadata": {
  "kernelspec": {
   "display_name": "Python 3.9.13 64-bit",
   "language": "python",
   "name": "python3"
  },
  "language_info": {
   "codemirror_mode": {
    "name": "ipython",
    "version": 3
   },
   "file_extension": ".py",
   "mimetype": "text/x-python",
   "name": "python",
   "nbconvert_exporter": "python",
   "pygments_lexer": "ipython3",
   "version": "3.9.13"
  },
  "orig_nbformat": 4,
  "vscode": {
   "interpreter": {
    "hash": "b0fa6594d8f4cbf19f97940f81e996739fb7646882a419484c72d19e05852a7e"
   }
  }
 },
 "nbformat": 4,
 "nbformat_minor": 2
}
